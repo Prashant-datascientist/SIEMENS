{
 "cells": [
  {
   "cell_type": "markdown",
   "metadata": {},
   "source": [
    "### Importing required libraries"
   ]
  },
  {
   "cell_type": "code",
   "execution_count": 1,
   "metadata": {},
   "outputs": [
    {
     "name": "stderr",
     "output_type": "stream",
     "text": [
      "C:\\Users\\prash\\AppData\\Local\\Temp\\ipykernel_23720\\1698430842.py:1: DeprecationWarning: \n",
      "Pyarrow will become a required dependency of pandas in the next major release of pandas (pandas 3.0),\n",
      "(to allow more performant data types, such as the Arrow string type, and better interoperability with other libraries)\n",
      "but was not found to be installed on your system.\n",
      "If this would cause problems for you,\n",
      "please provide us feedback at https://github.com/pandas-dev/pandas/issues/54466\n",
      "        \n",
      "  import pandas as pd\n"
     ]
    }
   ],
   "source": [
    "import pandas as pd\n",
    "import numpy as np\n",
    "from sklearn.mixture import GaussianMixture\n",
    "from sklearn.metrics import silhouette_score\n",
    "from sklearn.model_selection import train_test_split\n",
    "from sklearn.preprocessing import StandardScaler\n",
    "import matplotlib.pyplot as plt"
   ]
  },
  {
   "cell_type": "markdown",
   "metadata": {},
   "source": [
    "### Load Data and Feature Engineering:\n",
    "Load the extracted data from the CSV file."
   ]
  },
  {
   "cell_type": "code",
   "execution_count": 2,
   "metadata": {},
   "outputs": [],
   "source": [
    "# Load the extracted data from CSV\n",
    "df = pd.read_csv(\"cleaned.csv\")"
   ]
  },
  {
   "cell_type": "code",
   "execution_count": 3,
   "metadata": {},
   "outputs": [
    {
     "data": {
      "text/html": [
       "<div>\n",
       "<style scoped>\n",
       "    .dataframe tbody tr th:only-of-type {\n",
       "        vertical-align: middle;\n",
       "    }\n",
       "\n",
       "    .dataframe tbody tr th {\n",
       "        vertical-align: top;\n",
       "    }\n",
       "\n",
       "    .dataframe thead th {\n",
       "        text-align: right;\n",
       "    }\n",
       "</style>\n",
       "<table border=\"1\" class=\"dataframe\">\n",
       "  <thead>\n",
       "    <tr style=\"text-align: right;\">\n",
       "      <th></th>\n",
       "      <th>Unnamed: 0</th>\n",
       "      <th>List A</th>\n",
       "      <th>List B</th>\n",
       "    </tr>\n",
       "  </thead>\n",
       "  <tbody>\n",
       "    <tr>\n",
       "      <th>0</th>\n",
       "      <td>0</td>\n",
       "      <td>[2929, 1727, 3056, 1801]</td>\n",
       "      <td>[714, 3826, 784, 4033]</td>\n",
       "    </tr>\n",
       "    <tr>\n",
       "      <th>1</th>\n",
       "      <td>1</td>\n",
       "      <td>[1970, 2461, 2028, 2654]</td>\n",
       "      <td>[5690, 2156, 5801, 2247]</td>\n",
       "    </tr>\n",
       "    <tr>\n",
       "      <th>2</th>\n",
       "      <td>2</td>\n",
       "      <td>[4026, 3674, 4138, 3781]</td>\n",
       "      <td>[1281, 1999, 1385, 2186]</td>\n",
       "    </tr>\n",
       "    <tr>\n",
       "      <th>3</th>\n",
       "      <td>3</td>\n",
       "      <td>[4027, 3083, 4106, 3211]</td>\n",
       "      <td>[1923, 2858, 2011, 2959]</td>\n",
       "    </tr>\n",
       "    <tr>\n",
       "      <th>4</th>\n",
       "      <td>4</td>\n",
       "      <td>[5693, 2332, 5777, 2435]</td>\n",
       "      <td>5693, 3398, 5778, 3511]</td>\n",
       "    </tr>\n",
       "  </tbody>\n",
       "</table>\n",
       "</div>"
      ],
      "text/plain": [
       "   Unnamed: 0                    List A                    List B\n",
       "0           0  [2929, 1727, 3056, 1801]    [714, 3826, 784, 4033]\n",
       "1           1  [1970, 2461, 2028, 2654]  [5690, 2156, 5801, 2247]\n",
       "2           2  [4026, 3674, 4138, 3781]  [1281, 1999, 1385, 2186]\n",
       "3           3  [4027, 3083, 4106, 3211]  [1923, 2858, 2011, 2959]\n",
       "4           4  [5693, 2332, 5777, 2435]   5693, 3398, 5778, 3511]"
      ]
     },
     "execution_count": 3,
     "metadata": {},
     "output_type": "execute_result"
    }
   ],
   "source": [
    "df.head()"
   ]
  },
  {
   "cell_type": "code",
   "execution_count": 4,
   "metadata": {},
   "outputs": [
    {
     "data": {
      "text/plain": [
       "Index(['Unnamed: 0', 'List A', 'List B'], dtype='object')"
      ]
     },
     "execution_count": 4,
     "metadata": {},
     "output_type": "execute_result"
    }
   ],
   "source": [
    "df.columns"
   ]
  },
  {
   "cell_type": "code",
   "execution_count": 5,
   "metadata": {},
   "outputs": [],
   "source": [
    "df.drop('Unnamed: 0', axis=1, inplace=True)"
   ]
  },
  {
   "cell_type": "code",
   "execution_count": 6,
   "metadata": {},
   "outputs": [
    {
     "data": {
      "text/html": [
       "<div>\n",
       "<style scoped>\n",
       "    .dataframe tbody tr th:only-of-type {\n",
       "        vertical-align: middle;\n",
       "    }\n",
       "\n",
       "    .dataframe tbody tr th {\n",
       "        vertical-align: top;\n",
       "    }\n",
       "\n",
       "    .dataframe thead th {\n",
       "        text-align: right;\n",
       "    }\n",
       "</style>\n",
       "<table border=\"1\" class=\"dataframe\">\n",
       "  <thead>\n",
       "    <tr style=\"text-align: right;\">\n",
       "      <th></th>\n",
       "      <th>List A</th>\n",
       "      <th>List B</th>\n",
       "    </tr>\n",
       "  </thead>\n",
       "  <tbody>\n",
       "    <tr>\n",
       "      <th>0</th>\n",
       "      <td>[2929, 1727, 3056, 1801]</td>\n",
       "      <td>[714, 3826, 784, 4033]</td>\n",
       "    </tr>\n",
       "    <tr>\n",
       "      <th>1</th>\n",
       "      <td>[1970, 2461, 2028, 2654]</td>\n",
       "      <td>[5690, 2156, 5801, 2247]</td>\n",
       "    </tr>\n",
       "    <tr>\n",
       "      <th>2</th>\n",
       "      <td>[4026, 3674, 4138, 3781]</td>\n",
       "      <td>[1281, 1999, 1385, 2186]</td>\n",
       "    </tr>\n",
       "    <tr>\n",
       "      <th>3</th>\n",
       "      <td>[4027, 3083, 4106, 3211]</td>\n",
       "      <td>[1923, 2858, 2011, 2959]</td>\n",
       "    </tr>\n",
       "    <tr>\n",
       "      <th>4</th>\n",
       "      <td>[5693, 2332, 5777, 2435]</td>\n",
       "      <td>5693, 3398, 5778, 3511]</td>\n",
       "    </tr>\n",
       "    <tr>\n",
       "      <th>...</th>\n",
       "      <td>...</td>\n",
       "      <td>...</td>\n",
       "    </tr>\n",
       "    <tr>\n",
       "      <th>2523</th>\n",
       "      <td>[4134, 3279, 4356, 3408]</td>\n",
       "      <td>[3376, 1859, 3594, 1939]</td>\n",
       "    </tr>\n",
       "    <tr>\n",
       "      <th>2524</th>\n",
       "      <td>[3389, 1179, 3599, 1249]</td>\n",
       "      <td>[3382, 1574, 3594, 1640]</td>\n",
       "    </tr>\n",
       "    <tr>\n",
       "      <th>2525</th>\n",
       "      <td>[2384, 1571, 2620, 1640]</td>\n",
       "      <td>[1967, 1443, 2036, 1697]</td>\n",
       "    </tr>\n",
       "    <tr>\n",
       "      <th>2526</th>\n",
       "      <td>[4139, 3498, 4343, 3576]</td>\n",
       "      <td>[5802, 2513, 6034, 2642]</td>\n",
       "    </tr>\n",
       "    <tr>\n",
       "      <th>2527</th>\n",
       "      <td>[4382, 1575, 4608, 1640]</td>\n",
       "      <td>[3963, 1444, 4037, 1698]</td>\n",
       "    </tr>\n",
       "  </tbody>\n",
       "</table>\n",
       "<p>2528 rows × 2 columns</p>\n",
       "</div>"
      ],
      "text/plain": [
       "                        List A                    List B\n",
       "0     [2929, 1727, 3056, 1801]    [714, 3826, 784, 4033]\n",
       "1     [1970, 2461, 2028, 2654]  [5690, 2156, 5801, 2247]\n",
       "2     [4026, 3674, 4138, 3781]  [1281, 1999, 1385, 2186]\n",
       "3     [4027, 3083, 4106, 3211]  [1923, 2858, 2011, 2959]\n",
       "4     [5693, 2332, 5777, 2435]   5693, 3398, 5778, 3511]\n",
       "...                        ...                       ...\n",
       "2523  [4134, 3279, 4356, 3408]  [3376, 1859, 3594, 1939]\n",
       "2524  [3389, 1179, 3599, 1249]  [3382, 1574, 3594, 1640]\n",
       "2525  [2384, 1571, 2620, 1640]  [1967, 1443, 2036, 1697]\n",
       "2526  [4139, 3498, 4343, 3576]  [5802, 2513, 6034, 2642]\n",
       "2527  [4382, 1575, 4608, 1640]  [3963, 1444, 4037, 1698]\n",
       "\n",
       "[2528 rows x 2 columns]"
      ]
     },
     "execution_count": 6,
     "metadata": {},
     "output_type": "execute_result"
    }
   ],
   "source": [
    "df"
   ]
  },
  {
   "cell_type": "code",
   "execution_count": 7,
   "metadata": {},
   "outputs": [],
   "source": [
    "# Function to add missing brackets to a list\n",
    "def add_missing_brackets(lst):\n",
    "    if lst.startswith('[') and not lst.endswith(']'):\n",
    "        lst += ']'\n",
    "    elif not lst.startswith('[') and lst.endswith(']'):\n",
    "        lst = '[' + lst\n",
    "    elif not lst.startswith('[') and not lst.endswith(']'):\n",
    "        lst = '[' + lst + ']'\n",
    "    return lst\n",
    "\n",
    "# Apply the function to each value in the DataFrame\n",
    "\n",
    "df['List A'] = df['List A'].apply(add_missing_brackets)\n",
    "df['List B'] = df['List B'].apply(add_missing_brackets)"
   ]
  },
  {
   "cell_type": "code",
   "execution_count": 8,
   "metadata": {},
   "outputs": [
    {
     "data": {
      "text/html": [
       "<div>\n",
       "<style scoped>\n",
       "    .dataframe tbody tr th:only-of-type {\n",
       "        vertical-align: middle;\n",
       "    }\n",
       "\n",
       "    .dataframe tbody tr th {\n",
       "        vertical-align: top;\n",
       "    }\n",
       "\n",
       "    .dataframe thead th {\n",
       "        text-align: right;\n",
       "    }\n",
       "</style>\n",
       "<table border=\"1\" class=\"dataframe\">\n",
       "  <thead>\n",
       "    <tr style=\"text-align: right;\">\n",
       "      <th></th>\n",
       "      <th>List A</th>\n",
       "      <th>List B</th>\n",
       "    </tr>\n",
       "  </thead>\n",
       "  <tbody>\n",
       "    <tr>\n",
       "      <th>0</th>\n",
       "      <td>[2929, 1727, 3056, 1801]</td>\n",
       "      <td>[714, 3826, 784, 4033]</td>\n",
       "    </tr>\n",
       "    <tr>\n",
       "      <th>1</th>\n",
       "      <td>[1970, 2461, 2028, 2654]</td>\n",
       "      <td>[5690, 2156, 5801, 2247]</td>\n",
       "    </tr>\n",
       "    <tr>\n",
       "      <th>2</th>\n",
       "      <td>[4026, 3674, 4138, 3781]</td>\n",
       "      <td>[1281, 1999, 1385, 2186]</td>\n",
       "    </tr>\n",
       "    <tr>\n",
       "      <th>3</th>\n",
       "      <td>[4027, 3083, 4106, 3211]</td>\n",
       "      <td>[1923, 2858, 2011, 2959]</td>\n",
       "    </tr>\n",
       "    <tr>\n",
       "      <th>4</th>\n",
       "      <td>[5693, 2332, 5777, 2435]</td>\n",
       "      <td>[5693, 3398, 5778, 3511]</td>\n",
       "    </tr>\n",
       "    <tr>\n",
       "      <th>...</th>\n",
       "      <td>...</td>\n",
       "      <td>...</td>\n",
       "    </tr>\n",
       "    <tr>\n",
       "      <th>2523</th>\n",
       "      <td>[4134, 3279, 4356, 3408]</td>\n",
       "      <td>[3376, 1859, 3594, 1939]</td>\n",
       "    </tr>\n",
       "    <tr>\n",
       "      <th>2524</th>\n",
       "      <td>[3389, 1179, 3599, 1249]</td>\n",
       "      <td>[3382, 1574, 3594, 1640]</td>\n",
       "    </tr>\n",
       "    <tr>\n",
       "      <th>2525</th>\n",
       "      <td>[2384, 1571, 2620, 1640]</td>\n",
       "      <td>[1967, 1443, 2036, 1697]</td>\n",
       "    </tr>\n",
       "    <tr>\n",
       "      <th>2526</th>\n",
       "      <td>[4139, 3498, 4343, 3576]</td>\n",
       "      <td>[5802, 2513, 6034, 2642]</td>\n",
       "    </tr>\n",
       "    <tr>\n",
       "      <th>2527</th>\n",
       "      <td>[4382, 1575, 4608, 1640]</td>\n",
       "      <td>[3963, 1444, 4037, 1698]</td>\n",
       "    </tr>\n",
       "  </tbody>\n",
       "</table>\n",
       "<p>2528 rows × 2 columns</p>\n",
       "</div>"
      ],
      "text/plain": [
       "                        List A                    List B\n",
       "0     [2929, 1727, 3056, 1801]    [714, 3826, 784, 4033]\n",
       "1     [1970, 2461, 2028, 2654]  [5690, 2156, 5801, 2247]\n",
       "2     [4026, 3674, 4138, 3781]  [1281, 1999, 1385, 2186]\n",
       "3     [4027, 3083, 4106, 3211]  [1923, 2858, 2011, 2959]\n",
       "4     [5693, 2332, 5777, 2435]  [5693, 3398, 5778, 3511]\n",
       "...                        ...                       ...\n",
       "2523  [4134, 3279, 4356, 3408]  [3376, 1859, 3594, 1939]\n",
       "2524  [3389, 1179, 3599, 1249]  [3382, 1574, 3594, 1640]\n",
       "2525  [2384, 1571, 2620, 1640]  [1967, 1443, 2036, 1697]\n",
       "2526  [4139, 3498, 4343, 3576]  [5802, 2513, 6034, 2642]\n",
       "2527  [4382, 1575, 4608, 1640]  [3963, 1444, 4037, 1698]\n",
       "\n",
       "[2528 rows x 2 columns]"
      ]
     },
     "execution_count": 8,
     "metadata": {},
     "output_type": "execute_result"
    }
   ],
   "source": [
    "df"
   ]
  },
  {
   "cell_type": "code",
   "execution_count": 12,
   "metadata": {},
   "outputs": [
    {
     "name": "stdout",
     "output_type": "stream",
     "text": [
      "<class 'pandas.core.frame.DataFrame'>\n",
      "RangeIndex: 2528 entries, 0 to 2527\n",
      "Data columns (total 2 columns):\n",
      " #   Column  Non-Null Count  Dtype \n",
      "---  ------  --------------  ----- \n",
      " 0   List A  2528 non-null   object\n",
      " 1   List B  2528 non-null   object\n",
      "dtypes: object(2)\n",
      "memory usage: 39.6+ KB\n"
     ]
    }
   ],
   "source": [
    "df.info()"
   ]
  },
  {
   "cell_type": "code",
   "execution_count": 10,
   "metadata": {},
   "outputs": [],
   "source": [
    "\n",
    "import re\n",
    "\n",
    "\n",
    "# Define a function to clean the data\n",
    "def clean_data(s):\n",
    "    return re.sub('[^0-9,\\[\\]\\,]', '', s)\n",
    "\n",
    "# Apply the function to the columns 'List A' and 'List B'\n",
    "df['List A'] = df['List A'].apply(clean_data)\n",
    "df['List B'] = df['List B'].apply(clean_data)\n",
    "\n",
    "# # Save the cleaned DataFrame to a new CSV file\n",
    "# df.to_csv('cleaned_file.csv', index=False)"
   ]
  },
  {
   "cell_type": "code",
   "execution_count": 15,
   "metadata": {},
   "outputs": [],
   "source": [
    "df.to_csv('cleaned_file2.csv', index=False)"
   ]
  },
  {
   "cell_type": "code",
   "execution_count": null,
   "metadata": {},
   "outputs": [],
   "source": [
    "# df['List A'] = df['List A'].apply(lambda x: str(x).replace('(', '').replace(')', ''))\n",
    "# df['List B'] = df['List B'].apply(lambda x: str(x).replace('(', '').replace(')', ''))"
   ]
  },
  {
   "cell_type": "code",
   "execution_count": null,
   "metadata": {},
   "outputs": [],
   "source": [
    "# df['List A'] = df['List A'].apply(lambda x: str(x).replace('{', '').replace('}', ''))\n",
    "# df['List B'] = df['List B'].apply(lambda x: str(x).replace('{', '').replace('}', ''))"
   ]
  },
  {
   "cell_type": "code",
   "execution_count": null,
   "metadata": {},
   "outputs": [],
   "source": [
    "# df['List A'] = df['List A'].apply(lambda x: str(x).replace('|', ''))\n",
    "# df['List B'] = df['List B'].apply(lambda x: str(x).replace('|', ''))"
   ]
  },
  {
   "cell_type": "code",
   "execution_count": null,
   "metadata": {},
   "outputs": [],
   "source": [
    "# df['List A'] = df['List A'].apply(lambda x: str(x).replace('\\'', ''))\n",
    "# df['List B'] = df['List B'].apply(lambda x: str(x).replace('\\'', ''))"
   ]
  },
  {
   "cell_type": "code",
   "execution_count": null,
   "metadata": {},
   "outputs": [],
   "source": [
    "# df['List A'] = df['List A'].apply(lambda x: str(x).replace(':', ''))\n",
    "# df['List B'] = df['List B'].apply(lambda x: str(x).replace(':', ''))"
   ]
  },
  {
   "cell_type": "code",
   "execution_count": null,
   "metadata": {},
   "outputs": [],
   "source": [
    "# import ast\n",
    "\n",
    "# def convert_to_list(s):\n",
    "#     try:\n",
    "#         return ast.literal_eval(s)\n",
    "#     except ValueError:\n",
    "#         return s  # Return the original string if it can't be parsed\n",
    "\n",
    "# # Assuming df is your DataFrame and 'column' is the name of your column\n",
    "\n",
    "\n",
    "\n",
    "# df['List A'] = df['List A'].apply(convert_to_list)\n",
    "# df['List B'] = df['List B'].apply(convert_to_list)"
   ]
  },
  {
   "cell_type": "code",
   "execution_count": 13,
   "metadata": {},
   "outputs": [
    {
     "data": {
      "text/plain": [
       "List A    0\n",
       "List B    0\n",
       "dtype: int64"
      ]
     },
     "execution_count": 13,
     "metadata": {},
     "output_type": "execute_result"
    }
   ],
   "source": [
    "df.isna().sum()"
   ]
  },
  {
   "cell_type": "code",
   "execution_count": null,
   "metadata": {},
   "outputs": [],
   "source": [
    "# df['List A'] = df['List A'].astype('object')\n",
    "# df['List B'] = df['List B'].astype('object')"
   ]
  },
  {
   "cell_type": "code",
   "execution_count": 14,
   "metadata": {},
   "outputs": [
    {
     "name": "stdout",
     "output_type": "stream",
     "text": [
      "Merged bounding boxes: []\n"
     ]
    }
   ],
   "source": [
    "# import cv2\n",
    "\n",
    "def compute_iou(box1, box2):\n",
    "    # Compute intersection coordinates\n",
    "    x1 = max(box1[0], box2[0])\n",
    "    y1 = max(box1[1], box2[1])\n",
    "    x2 = min(box1[2], box2[2])\n",
    "    y2 = min(box1[3], box2[3])\n",
    "\n",
    "    # Compute area of intersection\n",
    "    intersection_area = max(0, x2 - x1) * max(0, y2 - y1)\n",
    "\n",
    "    # Compute area of union\n",
    "    area_box1 = (box1[2] - box1[0]) * (box1[3] - box1[1])\n",
    "    area_box2 = (box2[2] - box2[0]) * (box2[3] - box2[1])\n",
    "    union_area = area_box1 + area_box2 - intersection_area\n",
    "\n",
    "    # Compute IoU\n",
    "    iou = intersection_area / union_area\n",
    "\n",
    "    return iou\n",
    "\n",
    "def merge_related_boxes(list_a, list_b, threshold=0.5):\n",
    "    merged_boxes = []\n",
    "    for box_a in list_a:\n",
    "        for box_b in list_b:\n",
    "            if len(box_a) == 4 and len(box_b) == 4:  # Check if both boxes have valid coordinates\n",
    "                if compute_iou(box_a, box_b) > threshold:\n",
    "                    # Merge the boxes\n",
    "                    merged_boxes.append([\n",
    "                        min(box_a[0], box_b[0]),\n",
    "                        min(box_a[1], box_b[1]),\n",
    "                        max(box_a[2], box_b[2]),\n",
    "                        max(box_a[3], box_b[3])\n",
    "                    ])\n",
    "    return merged_boxes\n",
    "\n",
    "list_a = df['List A']\n",
    "list_b = df['List B'] \n",
    "merged_result = merge_related_boxes(list_a, list_b)\n",
    "\n",
    "print(\"Merged bounding boxes:\", merged_result)\n"
   ]
  },
  {
   "cell_type": "code",
   "execution_count": null,
   "metadata": {},
   "outputs": [],
   "source": [
    "\n",
    "# We don't have a column \"merge_decision\" (1 for merge, 0 for not merge)\n",
    "# createing a binary label based on our criteria\n",
    "# For example, if overlap area > threshold, label as 1 (merge), else label as 0 (not merge)\n",
    "# df[\"merge_decision\"] = np.random.choice([0, 1], size=len(df))"
   ]
  },
  {
   "cell_type": "code",
   "execution_count": null,
   "metadata": {},
   "outputs": [],
   "source": [
    "# import ast\n",
    "\n",
    "# df['List A'] = df['List A'].apply(ast.literal_eval)\n",
    "# df['List B'] = df['List B'].apply(ast.literal_eval)"
   ]
  },
  {
   "cell_type": "code",
   "execution_count": null,
   "metadata": {},
   "outputs": [],
   "source": [
    "# # Split data into features (X) and target (y)\n",
    "# X = df[[\"List A\", \"List B\"]]  # Replace with actual features\n",
    "\n",
    "# y = df[\"merge_decision\"]  # Binary label (1 for merge, 0 for not merge)\n",
    "\n",
    "# # Split into training and validation sets\n",
    "# X_train, X_val, y_train, y_val = train_test_split(X, y, test_size=0.2, random_state=42)\n",
    "\n",
    "# # Standardize features\n",
    "# scaler = StandardScaler()\n",
    "# X_train_scaled = scaler.fit_transform(X_train)\n",
    "# X_val_scaled = scaler.transform(X_val)\n"
   ]
  },
  {
   "cell_type": "code",
   "execution_count": null,
   "metadata": {},
   "outputs": [],
   "source": [
    "y_train"
   ]
  },
  {
   "cell_type": "markdown",
   "metadata": {},
   "source": [
    "### Initialize and Train GMM:\n",
    "Choose the number of components (clusters) for the GMM (e.g., n_components = 2).\n",
    "Fit the GMM to the scaled training data."
   ]
  },
  {
   "cell_type": "code",
   "execution_count": null,
   "metadata": {},
   "outputs": [],
   "source": [
    "# Initialize and train a Gaussian Mixture Model (GMM)\n",
    "n_components = 2  # Number of components (clusters)\n",
    "gmm = GaussianMixture(n_components=n_components, random_state=42)\n",
    "gmm.fit(X_train)\n"
   ]
  }
 ],
 "metadata": {
  "kernelspec": {
   "display_name": "Python 3",
   "language": "python",
   "name": "python3"
  },
  "language_info": {
   "codemirror_mode": {
    "name": "ipython",
    "version": 3
   },
   "file_extension": ".py",
   "mimetype": "text/x-python",
   "name": "python",
   "nbconvert_exporter": "python",
   "pygments_lexer": "ipython3",
   "version": "3.10.0"
  }
 },
 "nbformat": 4,
 "nbformat_minor": 2
}
