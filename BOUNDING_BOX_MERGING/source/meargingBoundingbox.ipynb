{
 "cells": [
  {
   "cell_type": "code",
   "execution_count": 1,
   "metadata": {},
   "outputs": [
    {
     "name": "stderr",
     "output_type": "stream",
     "text": [
      "C:\\Users\\prash\\AppData\\Local\\Temp\\ipykernel_7996\\200745130.py:1: DeprecationWarning: \n",
      "Pyarrow will become a required dependency of pandas in the next major release of pandas (pandas 3.0),\n",
      "(to allow more performant data types, such as the Arrow string type, and better interoperability with other libraries)\n",
      "but was not found to be installed on your system.\n",
      "If this would cause problems for you,\n",
      "please provide us feedback at https://github.com/pandas-dev/pandas/issues/54466\n",
      "        \n",
      "  import pandas as pd\n"
     ]
    }
   ],
   "source": [
    "import pandas as pd\n",
    "from typing import List\n",
    "\n",
    "# Load the data\n",
    "df = pd.read_csv('cleaned_file2.csv')"
   ]
  },
  {
   "cell_type": "code",
   "execution_count": 2,
   "metadata": {},
   "outputs": [],
   "source": [
    "import ast\n",
    "\n",
    "df['List A'] = df['List A'].apply(ast.literal_eval)\n",
    "df['List B'] = df['List B'].apply(ast.literal_eval)"
   ]
  },
  {
   "cell_type": "code",
   "execution_count": 3,
   "metadata": {},
   "outputs": [
    {
     "data": {
      "text/plain": [
       "4"
      ]
     },
     "execution_count": 3,
     "metadata": {},
     "output_type": "execute_result"
    }
   ],
   "source": [
    "len(df['List A'][1])"
   ]
  },
  {
   "cell_type": "code",
   "execution_count": null,
   "metadata": {},
   "outputs": [],
   "source": []
  },
  {
   "cell_type": "code",
   "execution_count": 4,
   "metadata": {},
   "outputs": [],
   "source": [
    "# df['List A Length'] = df['List A'].apply(len)\n",
    "# df['List B Length'] = df['List B'].apply(len)"
   ]
  },
  {
   "cell_type": "code",
   "execution_count": 5,
   "metadata": {},
   "outputs": [],
   "source": [
    " # Filter rows where the length of either List A or List B is 4\n",
    "df = df[(df['List A'].apply(len) == 4) & (df['List B'].apply(len) == 4)]"
   ]
  },
  {
   "cell_type": "code",
   "execution_count": 6,
   "metadata": {},
   "outputs": [
    {
     "data": {
      "text/html": [
       "<div>\n",
       "<style scoped>\n",
       "    .dataframe tbody tr th:only-of-type {\n",
       "        vertical-align: middle;\n",
       "    }\n",
       "\n",
       "    .dataframe tbody tr th {\n",
       "        vertical-align: top;\n",
       "    }\n",
       "\n",
       "    .dataframe thead th {\n",
       "        text-align: right;\n",
       "    }\n",
       "</style>\n",
       "<table border=\"1\" class=\"dataframe\">\n",
       "  <thead>\n",
       "    <tr style=\"text-align: right;\">\n",
       "      <th></th>\n",
       "      <th>List A</th>\n",
       "      <th>List B</th>\n",
       "    </tr>\n",
       "  </thead>\n",
       "  <tbody>\n",
       "    <tr>\n",
       "      <th>count</th>\n",
       "      <td>2441</td>\n",
       "      <td>2441</td>\n",
       "    </tr>\n",
       "    <tr>\n",
       "      <th>unique</th>\n",
       "      <td>2389</td>\n",
       "      <td>2389</td>\n",
       "    </tr>\n",
       "    <tr>\n",
       "      <th>top</th>\n",
       "      <td>[936, 2151, 1012, 2311]</td>\n",
       "      <td>[1468, 2243, 1552, 2502]</td>\n",
       "    </tr>\n",
       "    <tr>\n",
       "      <th>freq</th>\n",
       "      <td>2</td>\n",
       "      <td>2</td>\n",
       "    </tr>\n",
       "  </tbody>\n",
       "</table>\n",
       "</div>"
      ],
      "text/plain": [
       "                         List A                    List B\n",
       "count                      2441                      2441\n",
       "unique                     2389                      2389\n",
       "top     [936, 2151, 1012, 2311]  [1468, 2243, 1552, 2502]\n",
       "freq                          2                         2"
      ]
     },
     "execution_count": 6,
     "metadata": {},
     "output_type": "execute_result"
    }
   ],
   "source": [
    "df.describe()"
   ]
  },
  {
   "cell_type": "code",
   "execution_count": 7,
   "metadata": {},
   "outputs": [],
   "source": [
    "\n",
    "\n",
    "# def merge_bounding_boxes(box1: List[int], box2: List[int]) -> List[int]:\n",
    "#     x1 = min(box1[0], box2[0])\n",
    "#     y1 = min(box1[1], box2[1])\n",
    "#     x2 = max(box1[2], box2[2])\n",
    "#     y2 = max(box1[3], box2[3])\n",
    "#     return [x1, y1, x2, y2]\n",
    "\n",
    "\n",
    "\n",
    "# # Apply the merge function\n",
    "# df['Merged'] = df.apply(lambda row: merge_bounding_boxes(row['List A'], row['List B']), axis=1)\n",
    "\n",
    "# # Save the result\n",
    "# df.to_csv('merged_boxes.csv', index=False)\n"
   ]
  },
  {
   "cell_type": "code",
   "execution_count": 8,
   "metadata": {},
   "outputs": [
    {
     "data": {
      "text/html": [
       "<div>\n",
       "<style scoped>\n",
       "    .dataframe tbody tr th:only-of-type {\n",
       "        vertical-align: middle;\n",
       "    }\n",
       "\n",
       "    .dataframe tbody tr th {\n",
       "        vertical-align: top;\n",
       "    }\n",
       "\n",
       "    .dataframe thead th {\n",
       "        text-align: right;\n",
       "    }\n",
       "</style>\n",
       "<table border=\"1\" class=\"dataframe\">\n",
       "  <thead>\n",
       "    <tr style=\"text-align: right;\">\n",
       "      <th></th>\n",
       "      <th>List A</th>\n",
       "      <th>List B</th>\n",
       "    </tr>\n",
       "  </thead>\n",
       "  <tbody>\n",
       "    <tr>\n",
       "      <th>count</th>\n",
       "      <td>2441</td>\n",
       "      <td>2441</td>\n",
       "    </tr>\n",
       "    <tr>\n",
       "      <th>unique</th>\n",
       "      <td>2389</td>\n",
       "      <td>2389</td>\n",
       "    </tr>\n",
       "    <tr>\n",
       "      <th>top</th>\n",
       "      <td>[936, 2151, 1012, 2311]</td>\n",
       "      <td>[1468, 2243, 1552, 2502]</td>\n",
       "    </tr>\n",
       "    <tr>\n",
       "      <th>freq</th>\n",
       "      <td>2</td>\n",
       "      <td>2</td>\n",
       "    </tr>\n",
       "  </tbody>\n",
       "</table>\n",
       "</div>"
      ],
      "text/plain": [
       "                         List A                    List B\n",
       "count                      2441                      2441\n",
       "unique                     2389                      2389\n",
       "top     [936, 2151, 1012, 2311]  [1468, 2243, 1552, 2502]\n",
       "freq                          2                         2"
      ]
     },
     "execution_count": 8,
     "metadata": {},
     "output_type": "execute_result"
    }
   ],
   "source": [
    "df.describe()"
   ]
  },
  {
   "cell_type": "markdown",
   "metadata": {},
   "source": [
    "### Algorithm Steps:\n",
    "Given the bounding box coordinates in List A and List B:\n",
    "* Computeing the Intersection Over Union (IoU) for each pair of bounding boxes (one from List A and one from List B).\n",
    "* If the IoU exceeds the threshold, merge the bounding boxes into a single bounding box.\n",
    "* Repeat this process for all pairs.\n",
    "* The merged bounding boxes will form the output."
   ]
  },
  {
   "cell_type": "code",
   "execution_count": 9,
   "metadata": {},
   "outputs": [
    {
     "name": "stdout",
     "output_type": "stream",
     "text": [
      "Merged bounding boxes: [[2896, 1720, 3056, 1801], [4026, 3658, 4138, 3781], [2282, 1324, 2386, 1501], [1445, 1562, 1557, 1754], [1455, 1201, 1549, 1344], [5198, 3171, 5304, 3280], [1449, 1410, 1518, 1546], [3362, 1805, 3437, 1909], [3357, 1557, 3475, 1760], [2423, 2734, 2617, 2890], [2389, 2734, 2617, 2895], [2418, 2467, 2655, 2606], [3883, 2275, 4113, 2418], [5304, 2695, 5531, 2826], [5263, 2695, 5548, 2835], [5295, 2524, 5555, 2601], [1544, 1802, 1778, 1896], [1437, 599, 1494, 652], [1310, 1897, 1369, 1957], [1356, 1014, 1418, 1072], [2287, 420, 2381, 521], [752, 2383, 829, 2427], [742, 2360, 829, 2427], [1073, 2267, 1275, 2362], [2689, 778, 2901, 869], [1308, 1943, 1482, 2018], [1308, 1921, 1468, 2018], [1018, 1727, 1194, 1808], [1646, 1120, 1856, 1224], [1126, 976, 1323, 1070], [1284, 1781, 1420, 1895], [2370, 400, 2704, 539], [1217, 3656, 1288, 3874], [3782, 3251, 3882, 3358], [3773, 2248, 3890, 2438], [1449, 2095, 1519, 2233], [1449, 1811, 1520, 1913], [5298, 2238, 5573, 2316], [1218, 3527, 1510, 3603], [3886, 2275, 4052, 2418], [5301, 2917, 5601, 2991], [1547, 2655, 1723, 2809], [1544, 1802, 1778, 1896], [1550, 2498, 1799, 2574], [1551, 2277, 1781, 2409], [1777, 3780, 1936, 3894], [984, 3581, 1142, 3794], [2498, 1985, 2589, 2266], [1376, 643, 1424, 763], [930, 999, 1066, 1119], [1386, 664, 1570, 746], [2704, 2095, 2849, 2233], [4464, 3202, 4677, 3474], [2867, 2305, 2966, 2605], [2819, 3368, 3010, 3626], [3508, 2784, 3688, 2999], [2676, 1635, 2875, 1889], [2042, 2484, 2284, 2628], [867, 2114, 1093, 2191], [3088, 832, 3239, 1009], [2704, 2095, 2849, 2233], [3352, 3399, 3442, 3735], [3868, 780, 3957, 984], [5581, 1566, 5834, 1660], [3297, 562, 3438, 868], [5577, 2699, 5850, 2856], [4161, 601, 4253, 962], [3909, 2735, 4002, 3007], [7094, 2114, 7245, 2383], [5579, 1207, 5916, 1293], [3549, 596, 3648, 864], [1666, 2189, 1827, 2502], [5579, 2923, 5812, 3107], [1415, 329, 1604, 551], [2830, 4603, 3024, 4845], [4677, 4034, 4868, 4291], [2042, 2484, 2284, 2628], [867, 2114, 1093, 2191], [3088, 832, 3239, 1009], [2308, 976, 2364, 1065], [1665, 3332, 1827, 3621], [2892, 646, 3066, 854], [1465, 3373, 1553, 3614], [2045, 2275, 2221, 2491], [2045, 2275, 2228, 2491], [2600, 3330, 2752, 3618], [6725, 3090, 6871, 3310], [7723, 3710, 8030, 3797], [7727, 2684, 7948, 2769], [903, 1829, 994, 2102], [3131, 672, 3208, 856], [979, 378, 1074, 644], [6510, 2878, 6611, 3300], [1439, 1062, 1562, 1253], [1228, 426, 1376, 513], [1687, 584, 1749, 673], [1385, 580, 1513, 664], [959, 1755, 1017, 1827], [2727, 1248, 2778, 1336], [867, 2377, 985, 2499], [1381, 962, 1575, 1047], [866, 1206, 1057, 1297], [914, 1206, 1057, 1289], [750, 1655, 813, 1734], [1752, 1068, 2048, 1147], [2272, 947, 2461, 1033], [2272, 947, 2461, 1033], [810, 1635, 935, 1755], [1854, 1756, 2012, 1845], [816, 2022, 977, 2150], [645, 1821, 688, 1928], [2415, 2168, 2479, 2262], [865, 911, 1117, 1003], [841, 546, 1031, 624], [864, 536, 1030, 624], [1713, 1509, 1951, 1602], [3299, 807, 3347, 902], [3353, 2056, 3401, 2162], [1287, 606, 1401, 644], [2210, 2054, 2254, 2139], [2209, 2055, 2271, 2139], [2218, 1908, 2265, 2040], [1113, 1486, 1238, 1537], [928, 397, 1025, 594], [1370, 1367, 1497, 1483], [638, 2176, 738, 2361], [2270, 1815, 2443, 1914], [3365, 510, 3488, 593], [3362, 488, 3485, 593], [2639, 1109, 2832, 1193], [389, 2219, 469, 2363], [1252, 1303, 1335, 1483], [2210, 1701, 2272, 1760], [2571, 1363, 2637, 1427], [2571, 986, 2619, 1066], [2727, 1742, 2778, 1838], [2721, 1743, 2785, 1838], [1040, 2374, 1158, 2416], [942, 609, 1035, 654], [3314, 495, 3353, 608], [3362, 385, 3487, 476], [1284, 1781, 1420, 1898], [3363, 804, 3529, 888], [3414, 2060, 3634, 2138], [2268, 1932, 2447, 2016], [2271, 1927, 2447, 2016], [2267, 2060, 2484, 2136], [1305, 451, 1383, 598], [2271, 1813, 2442, 1914], [937, 2382, 1013, 2428], [2737, 1838, 2786, 1962], [1357, 1014, 1434, 1072], [1179, 1681, 1258, 1899], [2793, 1837, 2935, 1946], [865, 915, 1117, 1003], [968, 2164, 1128, 2251], [708, 1095, 921, 1193], [446, 2048, 622, 2151], [1645, 1093, 1859, 1221], [1231, 1973, 1401, 2077], [3144, 881, 3197, 970], [2571, 1364, 2636, 1439], [2581, 1086, 2630, 1226], [2580, 1093, 2627, 1226], [3154, 1139, 3205, 1283], [589, 1552, 642, 1643], [1162, 1837, 1216, 1959], [1995, 1195, 2057, 1285], [956, 1842, 1006, 1927], [2208, 1789, 2262, 1908], [859, 1687, 932, 1751], [859, 1687, 932, 1751], [2638, 1126, 2775, 1222], [2633, 1226, 2833, 1327], [2635, 1226, 2836, 1327], [3210, 1166, 3383, 1263], [2062, 1196, 2275, 1283], [1019, 1839, 1238, 1929], [1019, 1839, 1277, 1928], [2273, 1806, 2430, 1914], [391, 987, 662, 1070], [396, 1081, 440, 1215], [1113, 1486, 1267, 1536], [945, 1068, 1026, 1224], [1954, 684, 2171, 785], [447, 1107, 626, 1193], [3364, 1858, 3594, 1940], [2020, 2048, 2121, 2154], [2685, 531, 2854, 614], [1018, 936, 1234, 1036], [2208, 1819, 2254, 1928], [1475, 1626, 1543, 1754], [1102, 1508, 1183, 1696], [1028, 1847, 1105, 1999], [1018, 929, 1234, 1026], [2270, 1407, 2453, 1525], [2270, 1416, 2391, 1525], [709, 1825, 918, 1931], [2720, 1818, 2932, 1914], [2933, 657, 3043, 812], [1067, 1728, 1155, 1807], [1019, 1600, 1279, 1692], [945, 1068, 1026, 1224], [1156, 1367, 1229, 1454], [2685, 531, 2854, 614], [1018, 936, 1234, 1036], [2188, 1663, 2299, 1847], [2062, 1259, 2204, 1355], [1487, 1961, 1569, 2014], [2301, 1235, 2368, 1379], [1057, 1713, 1144, 1949], [1058, 1710, 1144, 1949], [1423, 998, 1582, 1262], [2795, 1232, 2956, 1329], [2269, 806, 2485, 913], [553, 2032, 779, 2122], [553, 2032, 808, 2112], [2898, 1356, 3097, 1445], [1282, 1018, 1502, 1114], [1749, 2265, 1976, 2364], [844, 2131, 927, 2282], [2464, 2291, 2536, 2364], [554, 2149, 782, 2235], [1020, 2161, 1232, 2259], [1492, 884, 1755, 969], [1538, 884, 1755, 969], [2787, 1728, 3017, 1830], [2791, 1730, 3020, 1830], [1906, 519, 2083, 620], [433, 1601, 494, 1700], [2097, 1604, 2156, 1697], [605, 684, 768, 767], [2166, 1876, 2346, 1919], [862, 1738, 991, 1817], [812, 1000, 1003, 1097], [810, 333, 1053, 426], [2693, 1311, 2783, 1532], [5458, 1478, 5558, 1683], [5458, 1478, 5558, 1683], [2763, 2465, 2861, 2617], [1854, 2372, 2181, 2504], [2880, 1351, 3097, 1435], [1880, 3156, 2193, 3227], [2223, 338, 2484, 421], [4315, 710, 4591, 833], [2566, 1090, 2627, 1213], [1418, 878, 1478, 964], [2204, 1689, 2271, 1769], [2634, 2111, 2839, 2216], [1490, 1002, 1663, 1099], [1490, 989, 1690, 1088], [3262, 1214, 3436, 1314], [3259, 1198, 3462, 1296], [2188, 2339, 2317, 2447], [2163, 2352, 2317, 2453], [1159, 2098, 1217, 2198], [1294, 2129, 1546, 2251], [541, 2017, 594, 2139], [1021, 1839, 1238, 1939], [1021, 1839, 1277, 1939], [2325, 610, 2547, 702], [2464, 1716, 2534, 1797], [2507, 1698, 2650, 1807], [2218, 1708, 2362, 1816], [1249, 1685, 1378, 1734], [1385, 692, 1635, 789], [993, 2002, 1154, 2061], [993, 2002, 1154, 2061], [1318, 1448, 1384, 1585], [1384, 1367, 1527, 1477], [2584, 945, 2727, 1046], [2168, 1714, 2309, 1818], [2894, 1475, 3063, 1567], [913, 1353, 1077, 1446], [2529, 955, 2702, 1046], [2914, 2226, 3013, 2346], [2531, 2285, 2671, 2380], [3204, 874, 3492, 964], [3204, 874, 3492, 964], [2793, 1249, 2953, 1329], [1494, 2029, 1720, 2153], [2188, 1663, 2306, 1847], [2168, 1720, 2309, 1845], [2252, 897, 2341, 1064], [2252, 897, 2341, 1064], [2436, 1699, 2543, 1846], [2169, 940, 2394, 1048], [2610, 1718, 2851, 1799], [949, 718, 1080, 820], [2891, 2081, 3129, 2167], [293, 834, 500, 924], [2607, 1833, 2753, 1932], [1020, 504, 1225, 612], [1020, 504, 1225, 612], [1790, 1057, 2048, 1147], [1383, 634, 1556, 725], [2507, 1683, 2616, 1805], [3316, 1233, 3419, 1282], [3085, 505, 3269, 714], [1792, 3995, 2050, 4147], [3213, 532, 3649, 635], [3815, 3237, 3944, 3503], [942, 1065, 1055, 1261], [3795, 2228, 3870, 2438], [1018, 930, 1264, 1021], [4966, 1313, 5177, 1394], [4976, 1097, 5223, 1234], [1385, 749, 1568, 881], [1384, 749, 1586, 881], [2636, 2086, 2839, 2221], [3112, 1266, 3225, 1530], [1242, 1957, 1329, 2028], [3219, 1322, 3511, 1486], [2566, 1869, 2652, 1954], [2692, 758, 2828, 869], [6309, 739, 6517, 958], [3274, 562, 3446, 868], [1075, 3525, 1258, 3645], [2697, 3097, 2770, 3237], [2118, 1845, 2215, 1939], [2118, 1845, 2215, 1939], [3504, 595, 3648, 864], [4719, 4139, 4910, 4296], [4720, 3275, 4946, 3447], [4382, 958, 4653, 1086], [5356, 962, 5454, 1122], [5372, 719, 5462, 931], [3218, 1445, 3449, 1574], [4379, 2597, 4637, 2731], [5800, 2513, 6034, 2645], [1444, 1251, 1532, 1416], [2269, 2954, 2381, 3125], [2584, 950, 2696, 1081], [5045, 2370, 5256, 2505], [2268, 1643, 2380, 1781], [2263, 1643, 2393, 1768], [2270, 1643, 2381, 1779], [2719, 960, 2971, 1085], [2715, 3813, 2912, 4027], [1725, 2965, 1771, 3081], [4866, 702, 4972, 839], [2886, 646, 3155, 854], [2216, 1934, 2475, 2016], [2375, 1349, 2522, 1444], [4966, 1313, 5215, 1394], [4304, 1098, 4632, 1228], [3378, 3107, 3598, 3230], [3281, 1593, 3390, 1703], [3379, 1065, 3559, 1255], [633, 3276, 867, 3408], [5718, 1072, 6021, 1226], [806, 2597, 1144, 2671], [3294, 930, 3637, 1006], [2466, 908, 2522, 1016], [2510, 1033, 2620, 1136], [699, 1285, 931, 1399], [710, 1291, 931, 1412], [1796, 2985, 2006, 3062], [718, 1099, 974, 1227], [1475, 874, 1700, 966], [1475, 874, 1700, 966], [2258, 1042, 2482, 1119], [2190, 2217, 2347, 2317], [702, 1899, 928, 2005], [3112, 672, 3208, 856], [1280, 1553, 1353, 1661], [4629, 3924, 4699, 4122], [3214, 1186, 3481, 1278], [4717, 3275, 4943, 3447], [1385, 944, 1662, 1091], [1300, 2031, 1528, 2188], [4712, 3962, 4941, 4090], [1298, 1315, 1370, 1506], [1277, 1265, 1371, 1506], [1280, 1161, 1351, 1305], [1921, 1722, 2063, 1803], [5714, 2484, 5794, 2672], [1426, 3402, 1565, 3540], [2373, 957, 2589, 1090], [2382, 957, 2591, 1090], [2382, 932, 2612, 1090]]\n"
     ]
    }
   ],
   "source": [
    "def compute_iou(box1, box2):\n",
    "    # Compute intersection coordinates\n",
    "    x1 = max(box1[0], box2[0])\n",
    "    y1 = max(box1[1], box2[1])\n",
    "    x2 = min(box1[2], box2[2])\n",
    "    y2 = min(box1[3], box2[3])\n",
    "\n",
    "    # Compute area of intersection\n",
    "    intersection_area = max(0, x2 - x1) * max(0, y2 - y1)\n",
    "\n",
    "    # Compute area of union\n",
    "    area_box1 = (box1[2] - box1[0]) * (box1[3] - box1[1])\n",
    "    area_box2 = (box2[2] - box2[0]) * (box2[3] - box2[1])\n",
    "    union_area = area_box1 + area_box2 - intersection_area\n",
    "\n",
    "    # Compute IoU\n",
    "    iou = intersection_area / union_area\n",
    "\n",
    "    return iou\n",
    "\n",
    "def merge_related_boxes(list_a, list_b, threshold=0.5):\n",
    "    merged_boxes = []\n",
    "    for box_a in list_a:\n",
    "        for box_b in list_b:\n",
    "            if len(box_a) == 4 and len(box_b) == 4:  # Check if both boxes have valid coordinates\n",
    "                if compute_iou(box_a, box_b) > threshold:\n",
    "                    # Merge the boxes\n",
    "                    merged_boxes.append([\n",
    "                        min(box_a[0], box_b[0]),\n",
    "                        min(box_a[1], box_b[1]),\n",
    "                        max(box_a[2], box_b[2]),\n",
    "                        max(box_a[3], box_b[3])\n",
    "                    ])\n",
    "    return merged_boxes\n",
    "\n",
    "# Example usage\n",
    "# Replace with your actual data from List A and List B\n",
    "list_a = df['List A']\n",
    "list_b = df['List B']\n",
    "merged_result = merge_related_boxes(list_a, list_b)\n",
    "\n",
    "print(\"Merged bounding boxes:\", merged_result)\n",
    "\n",
    "\n",
    "merged_boxes = pd.DataFrame(merged_result)\n",
    "#merged_boxes.to_csv('Merged bounding boxes.csv', index=False)\n"
   ]
  },
  {
   "cell_type": "code",
   "execution_count": 10,
   "metadata": {},
   "outputs": [
    {
     "data": {
      "image/png": "[encoded data removed]",
      "text/plain": [
       "<Figure size 640x480 with 1 Axes>"
      ]
     },
     "metadata": {},
     "output_type": "display_data"
    }
   ],
   "source": [
    "import matplotlib.pyplot as plt\n",
    "\n",
    "\n",
    "# Extract x and y coordinates\n",
    "x_coords = [box[0] for box in merged_result]\n",
    "y_coords = [box[1] for box in merged_result]\n",
    "\n",
    "# Create a scatter plot\n",
    "plt.scatter(x_coords, y_coords, color='b', marker='o')\n",
    "plt.xlabel('X Coordinate')\n",
    "plt.ylabel('Y Coordinate')\n",
    "plt.title('Merged Bounding Boxes')\n",
    "plt.grid(True)\n",
    "plt.show()\n"
   ]
  }
 ],
 "metadata": {
  "kernelspec": {
   "display_name": "Python 3",
   "language": "python",
   "name": "python3"
  },
  "language_info": {
   "codemirror_mode": {
    "name": "ipython",
    "version": 3
   },
   "file_extension": ".py",
   "mimetype": "text/x-python",
   "name": "python",
   "nbconvert_exporter": "python",
   "pygments_lexer": "ipython3",
   "version": "3.10.0"
  }
 },
 "nbformat": 4,
 "nbformat_minor": 2
}
